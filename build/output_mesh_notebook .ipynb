{
 "cells": [
  {
   "cell_type": "code",
   "execution_count": 9,
   "metadata": {
    "collapsed": true
   },
   "outputs": [],
   "source": [
    "import createmesh  \n",
    "\n",
    "# set degug = 0 if you do not want to print the output of triangulation \n",
    "debug = 1\n",
    "mod = createmesh.Meshgeneration() \n",
    "ans = createmesh.Meshgeneration() \n",
    "\n",
    "polygon_vertices = [[0.0, 0.0], [3.0, 0.0], [3.0, 3.0], [0.0, 3.0]]\n",
    "hole = [ [[1.0, 1.0],[1.0, 2.0],[2.0, 2.0],[2.0, 1.0]] ]\n",
    "\n",
    "# polygon vertices in counter clockwise direction \n",
    "mod.input_polygon_vertices(polygon_vertices)\n",
    "\n",
    "# hole vertices in clockwise direction \n",
    "mod.input_holes(hole, [1.5, 1.5])\n",
    "\n",
    "mod.basic_triangulation(debug)   \n",
    "\n",
    "mod.refined_triangulation(debug) \n",
    "\n",
    "ans = mod.GetInstance()        \n",
    "\n",
    "triangle = ans.pointlist()  \n"
   ]
  },
  {
   "cell_type": "code",
   "execution_count": 10,
   "metadata": {},
   "outputs": [
    {
     "data": {
      "image/png": "[encoded data removed]",
      "text/plain": [
       "<matplotlib.figure.Figure at 0x7f00f9e573c8>"
      ]
     },
     "metadata": {},
     "output_type": "display_data"
    }
   ],
   "source": [
    "import matplotlib.pyplot as plt\n",
    "\n",
    "plt.axes()\n",
    "\n",
    "polygon_points = [polygon_vertices, hole[0]]\n",
    "for i in range (0,len(polygon_points)):\n",
    " polygon = plt.Polygon(polygon_points[i])\n",
    " line = plt.Polygon(polygon_points[i], fill=None, edgecolor='b')\n",
    " plt.gca().add_patch(line)\n",
    "\n",
    "for i in range (0,len(triangle)):\n",
    " polygon = plt.Polygon(triangle[i])\n",
    " line = plt.Polygon(triangle[i], fill=None, edgecolor='y')\n",
    " plt.gca().add_patch(line)\n",
    "\n",
    "plt.axis('scaled')\n",
    "plt.show()\n"
   ]
  },
  {
   "cell_type": "code",
   "execution_count": null,
   "metadata": {
    "collapsed": true
   },
   "outputs": [],
   "source": []
  }
 ],
 "metadata": {
  "kernelspec": {
   "display_name": "Python 3",
   "language": "python",
   "name": "python3"
  },
  "language_info": {
   "codemirror_mode": {
    "name": "ipython",
    "version": 3
   },
   "file_extension": ".py",
   "mimetype": "text/x-python",
   "name": "python",
   "nbconvert_exporter": "python",
   "pygments_lexer": "ipython3",
   "version": "3.6.1"
  }
 },
 "nbformat": 4,
 "nbformat_minor": 2
}
